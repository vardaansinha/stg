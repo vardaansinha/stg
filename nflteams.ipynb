{
 "cells": [
  {
   "cell_type": "code",
   "execution_count": 22,
   "metadata": {},
   "outputs": [
    {
     "name": "stdout",
     "output_type": "stream",
     "text": [
      "<table><tr><td>1</td><td>NFC East</td><td>Washington Commanders</td></tr><tr><td>2</td><td>NFC East</td><td>New York Giants</td></tr><tr><td>3</td><td>NFC East</td><td>Dallas Cowboys</td></tr><tr><td>4</td><td>NFC East</td><td>Philadelphia Eagles</td></tr><tr><td>5</td><td>NFC West</td><td>Arizona Cardinals</td></tr><tr><td>6</td><td>NFC West</td><td>Los Angeles Rams</td></tr><tr><td>7</td><td>NFC West</td><td>Seattle Seahawks</td></tr><tr><td>8</td><td>NFC West</td><td>San Francisco 49ers</td></tr><tr><td>9</td><td>NFC North</td><td>Green Bay Packers</td></tr><tr><td>10</td><td>NFC North</td><td>Chicago Bears</td></tr><tr><td>11</td><td>NFC North</td><td>Detroit Lions</td></tr><tr><td>12</td><td>NFC North</td><td>Minnesota Vikings</td></tr><tr><td>13</td><td>NFC South</td><td>New Orleans Saints</td></tr><tr><td>14</td><td>NFC South</td><td>Atlanta Falcons</td></tr><tr><td>15</td><td>NFC South</td><td>Tampa Bay Buccaneers</td></tr><tr><td>16</td><td>NFC South</td><td>Carolina Panthers</td></tr></table>\n"
     ]
    },
    {
     "data": {
      "text/html": [
       "<table><tr><td>1</td><td>NFC East</td><td>Washington Commanders</td></tr><tr><td>2</td><td>NFC East</td><td>New York Giants</td></tr><tr><td>3</td><td>NFC East</td><td>Dallas Cowboys</td></tr><tr><td>4</td><td>NFC East</td><td>Philadelphia Eagles</td></tr><tr><td>5</td><td>NFC West</td><td>Arizona Cardinals</td></tr><tr><td>6</td><td>NFC West</td><td>Los Angeles Rams</td></tr><tr><td>7</td><td>NFC West</td><td>Seattle Seahawks</td></tr><tr><td>8</td><td>NFC West</td><td>San Francisco 49ers</td></tr><tr><td>9</td><td>NFC North</td><td>Green Bay Packers</td></tr><tr><td>10</td><td>NFC North</td><td>Chicago Bears</td></tr><tr><td>11</td><td>NFC North</td><td>Detroit Lions</td></tr><tr><td>12</td><td>NFC North</td><td>Minnesota Vikings</td></tr><tr><td>13</td><td>NFC South</td><td>New Orleans Saints</td></tr><tr><td>14</td><td>NFC South</td><td>Atlanta Falcons</td></tr><tr><td>15</td><td>NFC South</td><td>Tampa Bay Buccaneers</td></tr><tr><td>16</td><td>NFC South</td><td>Carolina Panthers</td></tr></table>"
      ],
      "text/plain": [
       "<IPython.core.display.HTML object>"
      ]
     },
     "metadata": {},
     "output_type": "display_data"
    }
   ],
   "source": [
    "import sqlite3\n",
    "#import markdown\n",
    "from flask import Flask, render_template, request, flash, redirect, url_for\n",
    "from IPython.display import display, HTML\n",
    "\n",
    "def get_db_connection():\n",
    "    conn = sqlite3.connect('volumes/sqlite.db')\n",
    "    conn.row_factory = sqlite3.Row\n",
    "    return conn\n",
    "\n",
    "\n",
    "\n",
    "def getNFLTeams():\n",
    "    conn = get_db_connection()\n",
    "    db_teams = conn.execute('SELECT id, _division, _team FROM NFLTeam;').fetchall()\n",
    "    conn.close()\n",
    "    htmltable = \"\"\n",
    "    htmltable +=\"<table>\"\n",
    "    teams = []\n",
    "    for team in db_teams:\n",
    "       htmltable +=\"<tr>\"\n",
    "       team = dict(team)\n",
    "       htmltable +=\"<td>%s</td>\" % team[\"id\"]\n",
    "       htmltable +=\"<td>%s</td>\" % team[\"_division\"]\n",
    "       htmltable +=\"<td>%s</td>\" % team[\"_team\"]\n",
    "       #print(team)\n",
    "       #team['content'] = markdown.markdown(team['content'])\n",
    "       teams.append(team)\n",
    "       htmltable +=\"</tr>\"\n",
    "\n",
    "    htmltable +=\"</table>\"\n",
    "    #print(htmltable)\n",
    "    display(HTML(htmltable))\n",
    "    #return render_template('nfteams.html', team=teams)\n",
    "\n",
    "getNFLTeams()"
   ]
  }
 ],
 "metadata": {
  "kernelspec": {
   "display_name": "Python 3",
   "language": "python",
   "name": "python3"
  },
  "language_info": {
   "codemirror_mode": {
    "name": "ipython",
    "version": 3
   },
   "file_extension": ".py",
   "mimetype": "text/x-python",
   "name": "python",
   "nbconvert_exporter": "python",
   "pygments_lexer": "ipython3",
   "version": "3.10.9"
  },
  "orig_nbformat": 4,
  "vscode": {
   "interpreter": {
    "hash": "dc5407af6d5b81b343ff37fc9a0fc4ce640cd799ad52d618c06b575d95b9b3ed"
   }
  }
 },
 "nbformat": 4,
 "nbformat_minor": 2
}
